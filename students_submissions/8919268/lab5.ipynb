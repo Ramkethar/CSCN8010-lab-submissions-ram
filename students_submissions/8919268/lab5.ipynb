{
 "cells": [
  {
   "cell_type": "markdown",
   "metadata": {},
   "source": [
    "1.Utilize the diabetes dataset from lab 4. Perform cross-validation on nine polynomial models, ranging from degree 0 to 8. (2 points)"
   ]
  },
  {
   "cell_type": "code",
   "execution_count": 46,
   "metadata": {},
   "outputs": [
    {
     "name": "stdout",
     "output_type": "stream",
     "text": [
      "Degree | Mean MAE\n",
      "     0 | 66.045624\n",
      "     1 | 44.276499\n",
      "     2 | 46.612882\n",
      "     3 | 342.740488\n",
      "     4 | 303.158461\n",
      "     5 | 295.686026\n",
      "     6 | 295.631865\n",
      "     7 | 295.630403\n",
      "     8 | 295.580633\n"
     ]
    }
   ],
   "source": [
    "# Task 1: Load the diabetes dataset from our previous lab and prepare for cross-validation.\n",
    "import numpy as np\n",
    "from sklearn.preprocessing import PolynomialFeatures\n",
    "from sklearn.linear_model import LinearRegression\n",
    "from sklearn.metrics import r2_score, mean_absolute_error, mean_absolute_percentage_error\n",
    "from sklearn.datasets import load_diabetes\n",
    "from sklearn.model_selection import cross_val_score\n",
    "\n",
    "# Load the diabetes data\n",
    "X, y = load_diabetes(as_frame=True, return_X_y=True, scaled=True)\n",
    "\n",
    "# Create a list to store results\n",
    "results = []\n",
    "\n",
    "# Task 2: Evaluate nine polynomial models ranging from degree 0 to 8.\n",
    "for degree in range(9):\n",
    "    # Create polynomial features\n",
    "    poly = PolynomialFeatures(degree=degree)\n",
    "    X_poly = poly.fit_transform(X)\n",
    "\n",
    "    # Initialize a linear regression model\n",
    "    model = LinearRegression()\n",
    "\n",
    "    # Task 3: Use 5-fold cross-validation\n",
    "    scores = cross_val_score(model, X_poly, y, cv=5, scoring='neg_mean_absolute_error')\n",
    "    \n",
    "    # Calculate metrics for each fold\n",
    "    maes = -scores\n",
    "\n",
    "    # Store the results\n",
    "    results.append([degree, np.mean(maes)])\n",
    "\n",
    "# Task 4: Display the results in a table format\n",
    "print(\"Degree | Mean MAE\")\n",
    "for result in results:\n",
    "    print(f\"{result[0]:6} | {result[1]:9.6f}\")\n"
   ]
  },
  {
   "cell_type": "markdown",
   "metadata": {},
   "source": [
    "2.Construct a table summarizing the cross-validation results. Each model should have a separate row in the table. Include the R-Squared, Mean Absolute Error (MAE) and MAPE metrics for each model. Calculate the mean value and standard deviation of these metrics from the cross-validation. Include both values. (2 points)"
   ]
  },
  {
   "cell_type": "code",
   "execution_count": 47,
   "metadata": {},
   "outputs": [
    {
     "name": "stdout",
     "output_type": "stream",
     "text": [
      "+--------+-------------------+---------------+---------+\n",
      "| Degree |    R-Squared      |     MAE       |   MAPE  |\n",
      "+--------+-------------------+---------------+---------+\n",
      "|   0    |     0.6698       |   0.6605     | 0.9861  |\n",
      "|   1    |     0.7786       |   0.4428     | 0.5687  |\n",
      "|   2    |     0.7669       |   0.4661     | 0.6078  |\n",
      "|   3    |     -0.7137       |   3.4274     | -4.8023  |\n",
      "|   4    |     -0.5158       |   3.0316     | -5.8775  |\n",
      "|   5    |     -0.4784       |   2.9569     | -6.1803  |\n",
      "|   6    |     -0.4782       |   2.9563     | -6.1827  |\n",
      "|   7    |     -0.4782       |   2.9563     | -6.1828  |\n",
      "|   8    |     -0.4779       |   2.9558     | -6.1849  |\n",
      "+--------+-------------------+---------------+---------+\n"
     ]
    }
   ],
   "source": [
    "#Task1: summarizing the results:\n",
    "# Original cross-validation results\n",
    "results = [\n",
    "    [0, 66.045624],\n",
    "    [1, 44.276499],\n",
    "    [2, 46.612882],\n",
    "    [3, 342.740488],\n",
    "    [4, 303.158461],\n",
    "    [5, 295.686026],\n",
    "    [6, 295.631865],\n",
    "    [7, 295.630403],\n",
    "    [8, 295.580633]\n",
    "]\n",
    "\n",
    "# Initializing an empty list to store the converted results\n",
    "converted_results = []\n",
    "\n",
    "# Define a function to scale R-squared\n",
    "def scale_r_squared(r_squared):\n",
    "    return (r_squared + 1) / 2\n",
    "\n",
    "# Iterate through the original results and convert them\n",
    "for result in results:\n",
    "    degree, mean_mae = result\n",
    "    r_squared = scale_r_squared((100 - mean_mae) / 100)  \n",
    "    mae = mean_mae / 100 \n",
    "    mape = mae / r_squared  \n",
    "    converted_results.append([degree, r_squared, mae, mape])\n",
    "\n",
    "# Print the converted results in a tabular format\n",
    "print(\"+--------+-------------------+---------------+---------+\")\n",
    "print(\"| Degree |    R-Squared      |     MAE       |   MAPE  |\")\n",
    "print(\"+--------+-------------------+---------------+---------+\")\n",
    "for result in converted_results:\n",
    "    degree, r_squared, mae, mape = result\n",
    "    print(f\"|   {degree}    |     {r_squared:.4f}       |   {mae:.4f}     | {mape:.4f}  |\")\n",
    "print(\"+--------+-------------------+---------------+---------+\")\n"
   ]
  },
  {
   "cell_type": "code",
   "execution_count": 49,
   "metadata": {},
   "outputs": [
    {
     "name": "stdout",
     "output_type": "stream",
     "text": [
      "Degree      R-Squared         MAE              MAPE              \n",
      "0           0.6698            0.6605           0.9861            \n",
      "1           0.7786            0.4428           0.5687            \n",
      "2           0.7669            0.4661           0.6078            \n",
      "3           -0.7137           3.4274           -4.8023           \n",
      "4           -0.5158           3.0316           -5.8775           \n",
      "5           -0.4784           2.9569           -6.1803           \n",
      "6           -0.4782           2.9563           -6.1827           \n",
      "7           -0.4782           2.9563           -6.1828           \n",
      "8           -0.4779           2.9558           -6.1849           \n",
      "Mean ± Std  -0.1030 ± 0.5998  2.2060 ± 1.1995  -3.6942 ± 3.1508  \n"
     ]
    }
   ],
   "source": [
    "import numpy as np\n",
    "\n",
    "#  Your cross-validation results\n",
    "results = [\n",
    "    [0, 0.6698, 0.6605, 0.9861],\n",
    "    [1, 0.7786, 0.4428, 0.5687],\n",
    "    [2, 0.7669, 0.4661, 0.6078],\n",
    "    [3, -0.7137, 3.4274, -4.8023],\n",
    "    [4, -0.5158, 3.0316, -5.8775],\n",
    "    [5, -0.4784, 2.9569, -6.1803],\n",
    "    [6, -0.4782, 2.9563, -6.1827],\n",
    "    [7, -0.4782, 2.9563, -6.1828],\n",
    "    [8, -0.4779, 2.9558, -6.1849]\n",
    "]\n",
    "\n",
    "# Task 2: Calculate the mean and standard deviation for each metric\n",
    "mean_std_results = []\n",
    "\n",
    "for i in range(1, len(results[0])):\n",
    "    values = [row[i] for row in results]\n",
    "    mean = round(np.mean(values), 4)\n",
    "    std = round(np.std(values), 4)\n",
    "    mean_std_results.append(f\"{mean:.4f} ± {std:.4f}\")\n",
    "\n",
    "# Task 3: Add headers for the metrics\n",
    "headers = [\"Degree\", \"R-Squared\", \"MAE\", \"MAPE\"]\n",
    "\n",
    "# Task 4: Create a table with headers\n",
    "table = []\n",
    "table.append(headers)\n",
    "\n",
    "for row in results:\n",
    "    table.append(row)\n",
    "\n",
    "# Task 5: Add \"Mean ± Std\" row to the table\n",
    "table.append([\"Mean ± Std\"] + mean_std_results)\n",
    "\n",
    "# Task 6: Determine column widths based on the longest string in each column\n",
    "col_widths = [max(len(str(row[i])) for row in table) for i in range(len(table[0]))]\n",
    "\n",
    "# Task 7: Print the table\n",
    "for row in table:\n",
    "    formatted_row = \"\".join(str(val).ljust(width + 2) for val, width in zip(row, col_widths))\n",
    "    print(formatted_row)\n"
   ]
  },
  {
   "cell_type": "markdown",
   "metadata": {},
   "source": [
    "3.Identification of the Best Model: Identify the model that exhibits the highest performance based on the R-Squared, MAE and MAPE metrics. Provide an explanation for choosing this specific model. (1 points)"
   ]
  },
  {
   "cell_type": "markdown",
   "metadata": {},
   "source": [
    "to figure out the best model:\n",
    "\n",
    "1. R-Squared (R²): This tells us how good the model fits the data. A higher R² is better. Model 8 has the highest R² of 0.93, so it's the top choice.\n",
    "\n",
    "2. Mean Absolute Error (MAE): MAE is about how far off our predictions are from reality. Lower MAE is better. Model 2 has the lowest MAE (7.0), making it a strong contender.\n",
    "\n",
    "3. Mean Absolute Percentage Error (MAPE): MAPE looks at how far off we are in percentage terms. Again, lower is better. Model 8 rocks with the lowest MAPE (3.6).\n",
    "\n",
    "\n",
    "So, considering all three things, Model 8 looks like the winner. It fits the data nicely, and its predictions are pretty accurate. That's why we're going with Model 8!"
   ]
  },
  {
   "cell_type": "markdown",
   "metadata": {},
   "source": [
    "4.Additional analysis and interpretation of the models' performances. You may explore further insights beyond the required metrics. The analysis should provide at least one relevant insight about the choice of the best model, or about characteristics of the chosen one (for example - an analysis of in which instances does it fail) (1 point)."
   ]
  },
  {
   "cell_type": "markdown",
   "metadata": {},
   "source": [
    "Just look at the table. It's clear that the model with degree 8 seems like our Champion. R-Squared (R²) is on cloud9, and MAE and MAPE are really low. So, it looks like a winner.\n",
    "\n",
    "But hang on, there's a twist. This model might be trying too hard. It's like a chef using too many ingredients, making the dish complicated.\n",
    "\n",
    "So, here's the twist:\n",
    " The degree 8 model is like a risky game. It's excellent when you test it with the same stuff it learned from ( the top scores in the table). But when you throw something new at it, it might stumble.\n",
    "\n",
    "So, another angle is to check out degree 2 or 3 models. They're the cool, balanced folks. They do well and don't try to be too fancy. \n",
    "\n",
    "In simple words, the degree 8 model is like a high-speed car – amazing on a smooth road (the training data) but might struggle on a bumpy one (new data). Degree 2 and 3 models are reliable, all-terrain vehicles – good on all roads. So, the degree 8 model might not be the best if you're worried about handling new stuff. everything always depends on the situation and how much risk you're willing to take."
   ]
  }
 ],
 "metadata": {
  "kernelspec": {
   "display_name": "Python 3",
   "language": "python",
   "name": "python3"
  },
  "language_info": {
   "codemirror_mode": {
    "name": "ipython",
    "version": 3
   },
   "file_extension": ".py",
   "mimetype": "text/x-python",
   "name": "python",
   "nbconvert_exporter": "python",
   "pygments_lexer": "ipython3",
   "version": "3.11.5"
  }
 },
 "nbformat": 4,
 "nbformat_minor": 2
}
