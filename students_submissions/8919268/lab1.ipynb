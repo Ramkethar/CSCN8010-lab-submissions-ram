# hi
def joke():
    print("Why do programmers always mix up Christmas and Halloween?")
    input()  # Wait for user input
    print("Because Oct 31 == Dec 25!")


joke()
